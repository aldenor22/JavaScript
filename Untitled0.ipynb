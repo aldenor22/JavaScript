{
  "nbformat": 4,
  "nbformat_minor": 0,
  "metadata": {
    "colab": {
      "name": "Untitled0.ipynb",
      "provenance": [],
      "authorship_tag": "ABX9TyOaSO9Wz3M7BrBsINrMgTk9",
      "include_colab_link": true
    },
    "kernelspec": {
      "name": "python3",
      "display_name": "Python 3"
    }
  },
  "cells": [
    {
      "cell_type": "markdown",
      "metadata": {
        "id": "view-in-github",
        "colab_type": "text"
      },
      "source": [
        "<a href=\"https://colab.research.google.com/github/aldenor22/JavaScript/blob/main/Untitled0.ipynb\" target=\"_parent\"><img src=\"https://colab.research.google.com/assets/colab-badge.svg\" alt=\"Open In Colab\"/></a>"
      ]
    },
    {
      "cell_type": "code",
      "metadata": {
        "colab": {
          "base_uri": "https://localhost:8080/",
          "height": 129
        },
        "id": "xqcspT7GRsny",
        "outputId": "54c818c6-dbc6-405d-e059-815c5e57eecc"
      },
      "source": [
        "<html>\r\n",
        "<head>\r\n",
        "<meta charset=\"UTF-8\" />\r\n",
        "<title>Programação Estruturada</title>\r\n",
        "</head>\r\n",
        "<body>\r\n",
        "<h1>Entrada do Programa</h1>\r\n",
        "<button onclick='executarExercicio()'>OK</button>\r\n",
        "<p id=\"resultado\"></p>\r\n",
        "<script>\r\n",
        "    var vetor = [];\r\n",
        "function executarExercicio() {\r\n",
        "// implemente a partir daqui\r\n",
        "// Exemplo de comando de entrada\r\n",
        "    var n = Number(prompt(\"Informe a quantidade de elementos:\"));\r\n",
        "    \r\n",
        "var r = inserir(n); // atribua o resultado dos seus algoritmos a r\r\n",
        "document.getElementById('resultado').innerHTML = r;\r\n",
        "}\r\n",
        "\r\n",
        "function inserir(x){\r\n",
        "   var  retorno = \"\";\r\n",
        "   if( x > 0 ){\r\n",
        "    var receber = Number(prompt(\"Informe o número:\"));\r\n",
        "    vetor.push(receber);\r\n",
        "    retorno = inserir(x-1);\r\n",
        "    return retorno;\r\n",
        "   }else{\r\n",
        "       return \"Números inseridos: [\" +vetor+ \"]\";\r\n",
        "   }\r\n",
        "}\r\n",
        "\r\n",
        "</script>\r\n",
        "</body>\r\n",
        "</html>"
      ],
      "execution_count": 1,
      "outputs": [
        {
          "output_type": "error",
          "ename": "SyntaxError",
          "evalue": "ignored",
          "traceback": [
            "\u001b[0;36m  File \u001b[0;32m\"<ipython-input-1-a80bdd13ee77>\"\u001b[0;36m, line \u001b[0;32m1\u001b[0m\n\u001b[0;31m    <html>\u001b[0m\n\u001b[0m    ^\u001b[0m\n\u001b[0;31mSyntaxError\u001b[0m\u001b[0;31m:\u001b[0m invalid syntax\n"
          ]
        }
      ]
    }
  ]
}