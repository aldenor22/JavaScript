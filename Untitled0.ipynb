{
  "nbformat": 4,
  "nbformat_minor": 0,
  "metadata": {
    "colab": {
      "name": "Untitled0.ipynb",
      "provenance": [],
      "include_colab_link": true
    },
    "kernelspec": {
      "name": "python3",
      "display_name": "Python 3"
    }
  },
  "cells": [
    {
      "cell_type": "markdown",
      "metadata": {
        "id": "view-in-github",
        "colab_type": "text"
      },
      "source": [
        "<a href=\"https://colab.research.google.com/github/aldenor22/JavaScript/blob/main/Untitled0.ipynb\" target=\"_parent\"><img src=\"https://colab.research.google.com/assets/colab-badge.svg\" alt=\"Open In Colab\"/></a>"
      ]
    },
    {
      "cell_type": "code",
      "metadata": {
        "colab": {
          "base_uri": "https://localhost:8080/",
          "height": 125
        },
        "id": "xqcspT7GRsny",
        "outputId": "a1950056-265f-4fa0-e54c-541151910cc8"
      },
      "source": [
        "%%html\n",
        "<html>\n",
        "<head>\n",
        "<meta charset=\"UTF-8\" />\n",
        "<title>Programação Estruturada</title>\n",
        "</head>\n",
        "<body>\n",
        "<h1>Entrada do Programa</h1>\n",
        "<button onclick='executarExercicio()'>OK</button>\n",
        "<p id=\"resultado\"></p>\n",
        "<script>\n",
        "    var vetor = [];\n",
        "function executarExercicio() {\n",
        "// implemente a partir daqui\n",
        "// Exemplo de comando de entrada\n",
        "    var n = Number(prompt(\"Informe a quantidade de elementos:\"));\n",
        "\n",
        "var r = inserir(n); // atribua o resultado dos seus algoritmos a r\n",
        "document.getElementById('resultado').innerHTML = r;\n",
        "}\n",
        "\n",
        "function inserir(x){\n",
        "   var  retorno = \"\";\n",
        "   if( x > 0 ){\n",
        "    var receber = Number(prompt(\"Informe o número:\"));\n",
        "    vetor.push(receber);\n",
        "    retorno = inserir(x-1);\n",
        "    return retorno;\n",
        "   }else{\n",
        "       return \"Números inseridos: [\" +vetor+ \"]\";\n",
        "   }\n",
        "}\n",
        "\n",
        "</script>\n",
        "</body>\n",
        "</html>"
      ],
      "execution_count": 2,
      "outputs": [
        {
          "output_type": "display_data",
          "data": {
            "text/plain": [
              "<IPython.core.display.HTML object>"
            ],
            "text/html": [
              "<html>\n",
              "<head>\n",
              "<meta charset=\"UTF-8\" />\n",
              "<title>Programação Estruturada</title>\n",
              "</head>\n",
              "<body>\n",
              "<h1>Entrada do Programa</h1>\n",
              "<button onclick='executarExercicio()'>OK</button>\n",
              "<p id=\"resultado\"></p>\n",
              "<script>\n",
              "    var vetor = [];\n",
              "function executarExercicio() {\n",
              "// implemente a partir daqui\n",
              "// Exemplo de comando de entrada\n",
              "    var n = Number(prompt(\"Informe a quantidade de elementos:\"));\n",
              "\n",
              "var r = inserir(n); // atribua o resultado dos seus algoritmos a r\n",
              "document.getElementById('resultado').innerHTML = r;\n",
              "}\n",
              "\n",
              "function inserir(x){\n",
              "   var  retorno = \"\";\n",
              "   if( x > 0 ){\n",
              "    var receber = Number(prompt(\"Informe o número:\"));\n",
              "    vetor.push(receber);\n",
              "    retorno = inserir(x-1);\n",
              "    return retorno;\n",
              "   }else{\n",
              "       return \"Números inseridos: [\" +vetor+ \"]\";\n",
              "   }\n",
              "}\n",
              "\n",
              "</script>\n",
              "</body>\n",
              "</html>\n"
            ]
          },
          "metadata": {}
        }
      ]
    }
  ]
}